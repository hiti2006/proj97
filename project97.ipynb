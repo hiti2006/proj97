{
  "nbformat": 4,
  "nbformat_minor": 0,
  "metadata": {
    "colab": {
      "provenance": [],
      "authorship_tag": "ABX9TyMCxzv9W3cpxIrg8w/avJU3",
      "include_colab_link": true
    },
    "kernelspec": {
      "name": "python3",
      "display_name": "Python 3"
    },
    "language_info": {
      "name": "python"
    }
  },
  "cells": [
    {
      "cell_type": "markdown",
      "metadata": {
        "id": "view-in-github",
        "colab_type": "text"
      },
      "source": [
        "<a href=\"https://colab.research.google.com/github/hiti2006/proj97/blob/main/project97.ipynb\" target=\"_parent\"><img src=\"https://colab.research.google.com/assets/colab-badge.svg\" alt=\"Open In Colab\"/></a>"
      ]
    },
    {
      "cell_type": "code",
      "execution_count": 2,
      "metadata": {
        "colab": {
          "base_uri": "https://localhost:8080/"
        },
        "id": "9eyTmMnUNsA2",
        "outputId": "7feb80f0-e4be-4d55-ebb8-6a2b864deb2d"
      },
      "outputs": [
        {
          "output_type": "stream",
          "name": "stdout",
          "text": [
            "Enter year to be checked:2024\n",
            "The year is a leap year\n"
          ]
        }
      ],
      "source": [
        "year=int(input(\"Enter year to be checked:\"))\n",
        "if(year%4==0 and year%100 != 0 or year%400==0):\n",
        "  print(\"The year is a leap year\")\n",
        "else:\n",
        "  print(\"The year is not a leap year\")"
      ]
    }
  ]
}